{
 "cells": [
  {
   "cell_type": "markdown",
   "id": "eb562b1c",
   "metadata": {
    "cell_style": "center",
    "slideshow": {
     "slide_type": "slide"
    }
   },
   "source": [
    "# DS-210: Programming for Data Science\n",
    "\n",
    "\n",
    "# Lecture 3: Decision trees (continued)."
   ]
  },
  {
   "cell_type": "markdown",
   "id": "e5dafe76",
   "metadata": {
    "slideshow": {
     "slide_type": "-"
    }
   },
   "source": [
    "# Attendance poll https://piazza.com/class/lrat4tm83gbnz"
   ]
  },
  {
   "cell_type": "markdown",
   "id": "410402d8",
   "metadata": {
    "cell_style": "split",
    "slideshow": {
     "slide_type": "slide"
    }
   },
   "source": [
    "## New students\n",
    "* We're using Piazza and Blackboard\n",
    "* Please register on Piazza with your BU email\n",
    "\n",
    "## Everyone\n",
    "* Jupyter Notebook / Jupyter Lab\n",
    "* You can use it to open lecture slides\n",
    "* Homework 1 out on Wed (due next Wed)"
   ]
  },
  {
   "cell_type": "markdown",
   "id": "af167f08",
   "metadata": {
    "cell_style": "split",
    "slideshow": {
     "slide_type": "fragment"
    }
   },
   "source": [
    "## Last time\n",
    "\n",
    "* Supervised vs. unsupervised learning\n",
    "* Decision trees"
   ]
  },
  {
   "cell_type": "markdown",
   "id": "b7d72e01",
   "metadata": {
    "cell_style": "center",
    "slideshow": {
     "slide_type": "slide"
    }
   },
   "source": [
    "## Function arguments in Python: via position or name"
   ]
  },
  {
   "cell_type": "code",
   "execution_count": 1,
   "id": "3bfa618b",
   "metadata": {
    "cell_style": "split",
    "slideshow": {
     "slide_type": "-"
    }
   },
   "outputs": [
    {
     "name": "stdout",
     "output_type": "stream",
     "text": [
      "321\n"
     ]
    }
   ],
   "source": [
    "# simplest function definition\n",
    "def foo(x, y, z):\n",
    "    return x + 10 * y + 100 * z\n",
    "\n",
    "print(foo(1,2,3))"
   ]
  },
  {
   "cell_type": "code",
   "execution_count": 2,
   "id": "41b2dc6d",
   "metadata": {
    "cell_style": "split",
    "slideshow": {
     "slide_type": "fragment"
    }
   },
   "outputs": [
    {
     "name": "stdout",
     "output_type": "stream",
     "text": [
      "1 21 321\n"
     ]
    }
   ],
   "source": [
    "# add default values\n",
    "def moo(x, y = 0, z = 0):\n",
    "    return x + 10 * y + 100 * z\n",
    "\n",
    "# only one argument is mandatory\n",
    "print(moo(1),moo(1,2),moo(1,2,3))"
   ]
  },
  {
   "cell_type": "code",
   "execution_count": 3,
   "id": "962a8e5e",
   "metadata": {
    "cell_style": "split",
    "slideshow": {
     "slide_type": "fragment"
    }
   },
   "outputs": [
    {
     "name": "stdout",
     "output_type": "stream",
     "text": [
      "321\n",
      "321\n"
     ]
    }
   ],
   "source": [
    "# can refer to all or some arguments via variable names\n",
    "print(foo(z = 3, y = 2, x = 1))\n",
    "print(foo(1, z = 3, y = 2))\n",
    "# print(foo(z = 3, y = 2, 1))"
   ]
  },
  {
   "cell_type": "code",
   "execution_count": 4,
   "id": "ce02ac33",
   "metadata": {
    "cell_style": "split",
    "slideshow": {
     "slide_type": "fragment"
    }
   },
   "outputs": [
    {
     "name": "stdout",
     "output_type": "stream",
     "text": [
      "301\n"
     ]
    }
   ],
   "source": [
    "# can arbitrarily skip over arguments\n",
    "print(moo(1, z = 3))"
   ]
  },
  {
   "cell_type": "markdown",
   "id": "4bba3c01",
   "metadata": {
    "slideshow": {
     "slide_type": "slide"
    }
   },
   "source": [
    "## Decision trees"
   ]
  },
  {
   "cell_type": "markdown",
   "id": "3968842d",
   "metadata": {
    "cell_style": "split",
    "slideshow": {
     "slide_type": "-"
    }
   },
   "source": [
    "Popular machine learning tool for predictive data analysis:\n",
    "* start at the root and keep going down\n",
    "* every internal node labeled with a condition\n",
    "  - if satisfied, go left\n",
    "  - if not satisfied, go right\n",
    "* leafs labeled with predicted labels"
   ]
  },
  {
   "cell_type": "markdown",
   "id": "0db217de",
   "metadata": {
    "cell_style": "split"
   },
   "source": [
    "<div align=\"center\">\n",
    "Does a player like bluegrass?\n",
    "<img alt=\"[Decision tree]\" align=\"center\" width=\"60%\" src=\"dt.png\"/></div>"
   ]
  },
  {
   "cell_type": "markdown",
   "id": "f481568e",
   "metadata": {
    "slideshow": {
     "slide_type": "fragment"
    }
   },
   "source": [
    "<div align=\"center\">\n",
    "    <b>Big challenge: finding a decision tree that matches data!</b>\n",
    "</div>"
   ]
  },
  {
   "cell_type": "markdown",
   "id": "22164570",
   "metadata": {
    "slideshow": {
     "slide_type": "subslide"
    }
   },
   "source": [
    "## Heuristics for constructing decision trees"
   ]
  },
  {
   "cell_type": "markdown",
   "id": "721df95a",
   "metadata": {
    "cell_style": "split",
    "slideshow": {
     "slide_type": "-"
    }
   },
   "source": [
    "* Start from a single node with all samples\n",
    "* Iterate:\n",
    "  * select a node\n",
    "  * use the samples in the node to split it into children\n",
    "  * pass each sample to respective child\n",
    "* Label leafs\n",
    "\n"
   ]
  },
  {
   "cell_type": "code",
   "execution_count": 4,
   "id": "eb5b44f1",
   "metadata": {
    "cell_style": "split"
   },
   "outputs": [
    {
     "data": {
      "text/html": [
       "<div>\n",
       "<style scoped>\n",
       "    .dataframe tbody tr th:only-of-type {\n",
       "        vertical-align: middle;\n",
       "    }\n",
       "\n",
       "    .dataframe tbody tr th {\n",
       "        vertical-align: top;\n",
       "    }\n",
       "\n",
       "    .dataframe thead th {\n",
       "        text-align: right;\n",
       "    }\n",
       "</style>\n",
       "<table border=\"1\" class=\"dataframe\">\n",
       "  <thead>\n",
       "    <tr style=\"text-align: right;\">\n",
       "      <th></th>\n",
       "      <th>Name</th>\n",
       "      <th>Number</th>\n",
       "      <th>PPG</th>\n",
       "      <th>YearBorn</th>\n",
       "      <th>TotalPoints</th>\n",
       "    </tr>\n",
       "  </thead>\n",
       "  <tbody>\n",
       "    <tr>\n",
       "      <th>0</th>\n",
       "      <td>Kareem</td>\n",
       "      <td>33</td>\n",
       "      <td>24.6</td>\n",
       "      <td>1947</td>\n",
       "      <td>38387</td>\n",
       "    </tr>\n",
       "    <tr>\n",
       "      <th>1</th>\n",
       "      <td>Karl</td>\n",
       "      <td>32</td>\n",
       "      <td>25.0</td>\n",
       "      <td>1963</td>\n",
       "      <td>36928</td>\n",
       "    </tr>\n",
       "    <tr>\n",
       "      <th>2</th>\n",
       "      <td>LeBron</td>\n",
       "      <td>23</td>\n",
       "      <td>27.0</td>\n",
       "      <td>1984</td>\n",
       "      <td>36381</td>\n",
       "    </tr>\n",
       "    <tr>\n",
       "      <th>3</th>\n",
       "      <td>Kobe</td>\n",
       "      <td>24</td>\n",
       "      <td>25.0</td>\n",
       "      <td>1978</td>\n",
       "      <td>33643</td>\n",
       "    </tr>\n",
       "    <tr>\n",
       "      <th>4</th>\n",
       "      <td>Michael</td>\n",
       "      <td>23</td>\n",
       "      <td>30.1</td>\n",
       "      <td>1963</td>\n",
       "      <td>32292</td>\n",
       "    </tr>\n",
       "  </tbody>\n",
       "</table>\n",
       "</div>"
      ],
      "text/plain": [
       "      Name  Number   PPG  YearBorn  TotalPoints\n",
       "0   Kareem      33  24.6      1947        38387\n",
       "1     Karl      32  25.0      1963        36928\n",
       "2   LeBron      23  27.0      1984        36381\n",
       "3     Kobe      24  25.0      1978        33643\n",
       "4  Michael      23  30.1      1963        32292"
      ]
     },
     "execution_count": 4,
     "metadata": {},
     "output_type": "execute_result"
    }
   ],
   "source": [
    "# Let's read our sample data\n",
    "import pandas as pd\n",
    "data = pd.read_csv('players.csv')\n",
    "data"
   ]
  },
  {
   "cell_type": "markdown",
   "id": "92dccbca",
   "metadata": {
    "cell_style": "split",
    "slideshow": {
     "slide_type": "fragment"
    }
   },
   "source": [
    "<div align=\"center\">\n",
    "Favorite color?\n",
    "<img alt=\"[Decision tree]\" align=\"center\" width=\"100%\" src=\"dt-1.png\"/></div>"
   ]
  },
  {
   "cell_type": "markdown",
   "id": "2666237c",
   "metadata": {
    "slideshow": {
     "slide_type": "subslide"
    }
   },
   "source": [
    "## Heuristics for constructing decision trees"
   ]
  },
  {
   "cell_type": "markdown",
   "id": "56a64e15",
   "metadata": {
    "cell_style": "split",
    "slideshow": {
     "slide_type": "-"
    }
   },
   "source": [
    "* Start from a single node with all samples\n",
    "* Iterate:\n",
    "  * select a node\n",
    "  * use the samples in the node to split it into children\n",
    "  * pass each sample to respective child\n",
    "* Label leafs\n",
    "\n"
   ]
  },
  {
   "cell_type": "markdown",
   "id": "ceea633f",
   "metadata": {
    "cell_style": "split",
    "slideshow": {
     "slide_type": "-"
    }
   },
   "source": [
    "<div align=\"center\">\n",
    "Favorite color?\n",
    "<img alt=\"[Decision tree]\" align=\"center\" width=\"60%\" src=\"dt-2.png\"/></div>"
   ]
  },
  {
   "cell_type": "code",
   "execution_count": 3,
   "id": "c6e20c12",
   "metadata": {
    "cell_style": "split"
   },
   "outputs": [
    {
     "data": {
      "text/html": [
       "<div>\n",
       "<style scoped>\n",
       "    .dataframe tbody tr th:only-of-type {\n",
       "        vertical-align: middle;\n",
       "    }\n",
       "\n",
       "    .dataframe tbody tr th {\n",
       "        vertical-align: top;\n",
       "    }\n",
       "\n",
       "    .dataframe thead th {\n",
       "        text-align: right;\n",
       "    }\n",
       "</style>\n",
       "<table border=\"1\" class=\"dataframe\">\n",
       "  <thead>\n",
       "    <tr style=\"text-align: right;\">\n",
       "      <th></th>\n",
       "      <th>Name</th>\n",
       "      <th>Number</th>\n",
       "      <th>PPG</th>\n",
       "      <th>YearBorn</th>\n",
       "      <th>TotalPoints</th>\n",
       "    </tr>\n",
       "  </thead>\n",
       "  <tbody>\n",
       "    <tr>\n",
       "      <th>0</th>\n",
       "      <td>Kareem</td>\n",
       "      <td>33</td>\n",
       "      <td>24.6</td>\n",
       "      <td>1947</td>\n",
       "      <td>38387</td>\n",
       "    </tr>\n",
       "    <tr>\n",
       "      <th>1</th>\n",
       "      <td>Karl</td>\n",
       "      <td>32</td>\n",
       "      <td>25.0</td>\n",
       "      <td>1963</td>\n",
       "      <td>36928</td>\n",
       "    </tr>\n",
       "    <tr>\n",
       "      <th>2</th>\n",
       "      <td>LeBron</td>\n",
       "      <td>23</td>\n",
       "      <td>27.0</td>\n",
       "      <td>1984</td>\n",
       "      <td>36381</td>\n",
       "    </tr>\n",
       "    <tr>\n",
       "      <th>3</th>\n",
       "      <td>Kobe</td>\n",
       "      <td>24</td>\n",
       "      <td>25.0</td>\n",
       "      <td>1978</td>\n",
       "      <td>33643</td>\n",
       "    </tr>\n",
       "    <tr>\n",
       "      <th>4</th>\n",
       "      <td>Michael</td>\n",
       "      <td>23</td>\n",
       "      <td>30.1</td>\n",
       "      <td>1963</td>\n",
       "      <td>32292</td>\n",
       "    </tr>\n",
       "  </tbody>\n",
       "</table>\n",
       "</div>"
      ],
      "text/plain": [
       "      Name  Number   PPG  YearBorn  TotalPoints\n",
       "0   Kareem      33  24.6      1947        38387\n",
       "1     Karl      32  25.0      1963        36928\n",
       "2   LeBron      23  27.0      1984        36381\n",
       "3     Kobe      24  25.0      1978        33643\n",
       "4  Michael      23  30.1      1963        32292"
      ]
     },
     "execution_count": 3,
     "metadata": {},
     "output_type": "execute_result"
    }
   ],
   "source": [
    "data"
   ]
  },
  {
   "cell_type": "markdown",
   "id": "bfaf0f13",
   "metadata": {
    "slideshow": {
     "slide_type": "subslide"
    }
   },
   "source": [
    "## Heuristics for constructing decision trees"
   ]
  },
  {
   "cell_type": "markdown",
   "id": "66d5f3a5",
   "metadata": {
    "cell_style": "split",
    "slideshow": {
     "slide_type": "-"
    }
   },
   "source": [
    "* Start from a single node with all samples\n",
    "* Iterate:\n",
    "  * select a node\n",
    "  * use the samples in the node to split it into children\n",
    "  * pass each sample to respective child\n",
    "* Label leafs\n",
    "\n"
   ]
  },
  {
   "cell_type": "markdown",
   "id": "c0e70b90",
   "metadata": {
    "cell_style": "split",
    "slideshow": {
     "slide_type": "-"
    }
   },
   "source": [
    "<div align=\"center\">\n",
    "Favorite color?\n",
    "<img alt=\"[Decision tree]\" align=\"center\" width=\"60%\" src=\"dt-3.png\"/></div>"
   ]
  },
  {
   "cell_type": "markdown",
   "id": "76a24082",
   "metadata": {
    "slideshow": {
     "slide_type": "subslide"
    }
   },
   "source": [
    "## Heuristics for constructing decision trees"
   ]
  },
  {
   "cell_type": "markdown",
   "id": "472d45cb",
   "metadata": {
    "cell_style": "split",
    "slideshow": {
     "slide_type": "-"
    }
   },
   "source": [
    "* Start from a single node with all samples\n",
    "* Iterate:\n",
    "  * select a node\n",
    "  * use the samples in the node to split it into children\n",
    "  * pass each sample to respective child\n",
    "* Label leafs\n",
    "\n"
   ]
  },
  {
   "cell_type": "markdown",
   "id": "a4e08715",
   "metadata": {
    "cell_style": "split",
    "slideshow": {
     "slide_type": "-"
    }
   },
   "source": [
    "<div align=\"center\">\n",
    "Favorite color?\n",
    "<img alt=\"[Decision tree]\" align=\"center\" width=\"60%\" src=\"dt-4.png\"/></div>"
   ]
  },
  {
   "cell_type": "markdown",
   "id": "2aeac5a7",
   "metadata": {
    "cell_style": "split",
    "slideshow": {
     "slide_type": "subslide"
    }
   },
   "source": [
    "## Split selection\n",
    "\n",
    "* Typical heuristic: select a split that improves classification most\n",
    "* Various measures of \"goodness\" or \"badness\":\n",
    "  * Information gain / Entropy\n",
    "  * Ginni impurity\n",
    "  * Variance\n"
   ]
  },
  {
   "cell_type": "markdown",
   "id": "1f4e98bc",
   "metadata": {
    "cell_style": "split",
    "slideshow": {
     "slide_type": "fragment"
    }
   },
   "source": [
    "## Popular algorithms\n",
    "\n",
    "* ID3\n",
    "* C4.5\n",
    "* C5.0\n",
    "* CART (used by `scikit-learn`)\n",
    "\n",
    "You can read more about those algorithms at https://scikit-learn.org/stable/modules/tree.html#tree-algorithms-id3-c4-5-c5-0-and-cart  \n",
    "\n",
    "and see the mathematical formulation for CART here: https://scikit-learn.org/stable/modules/tree.html#mathematical-formulation"
   ]
  },
  {
   "cell_type": "markdown",
   "id": "39bb9d40",
   "metadata": {},
   "source": [
    "### The Gini coefficient and Entropy\n",
    "\n",
    "Let's assume we have k classes that we are trying to decide\n",
    "\n",
    "A node M containing N samples has a Gini coefficient defined as follows:\n",
    "\n",
    "$P_k = 1/N * \\sum{I(y=k)}$  \n",
    "$ Gini(M) = \\sum_{k}{P_k*(1-P_k)}$  \n",
    "$ Entropy(M) = \\sum_{k}{P_k*log(P_k)} $"
   ]
  },
  {
   "cell_type": "markdown",
   "id": "a6010f1c",
   "metadata": {
    "slideshow": {
     "slide_type": "subslide"
    }
   },
   "source": [
    "## Advantages and disadvantages of decision trees"
   ]
  },
  {
   "cell_type": "markdown",
   "id": "feade850",
   "metadata": {
    "cell_style": "split",
    "slideshow": {
     "slide_type": "fragment"
    }
   },
   "source": [
    "Advantages:\n",
    "* easy to interpret\n",
    "* not much data preparation needed\n",
    "* categorical and numerical data\n",
    "* relatively fast"
   ]
  },
  {
   "cell_type": "markdown",
   "id": "ae33015e",
   "metadata": {
    "cell_style": "split",
    "slideshow": {
     "slide_type": "fragment"
    }
   },
   "source": [
    "Disadvantages:\n",
    "* can be very sensitive to data changes\n",
    "* can create an overcomplicated tree that matches the sample, but not the underlying problem\n",
    "* hard to find an optimal tree"
   ]
  },
  {
   "cell_type": "markdown",
   "id": "dba6dfaf",
   "metadata": {
    "slideshow": {
     "slide_type": "slide"
    }
   },
   "source": [
    "## Decision tree construction using `scikit-learn`\n",
    "\n",
    "**Note: ignore machine learning context for now**\n",
    "\n",
    "First, we read our sample data and add information who likes pizza"
   ]
  },
  {
   "cell_type": "code",
   "execution_count": 5,
   "id": "ad41aa7c",
   "metadata": {
    "cell_style": "split",
    "slideshow": {
     "slide_type": "fragment"
    }
   },
   "outputs": [
    {
     "data": {
      "text/html": [
       "<div>\n",
       "<style scoped>\n",
       "    .dataframe tbody tr th:only-of-type {\n",
       "        vertical-align: middle;\n",
       "    }\n",
       "\n",
       "    .dataframe tbody tr th {\n",
       "        vertical-align: top;\n",
       "    }\n",
       "\n",
       "    .dataframe thead th {\n",
       "        text-align: right;\n",
       "    }\n",
       "</style>\n",
       "<table border=\"1\" class=\"dataframe\">\n",
       "  <thead>\n",
       "    <tr style=\"text-align: right;\">\n",
       "      <th></th>\n",
       "      <th>Name</th>\n",
       "      <th>Number</th>\n",
       "      <th>PPG</th>\n",
       "      <th>YearBorn</th>\n",
       "      <th>TotalPoints</th>\n",
       "    </tr>\n",
       "  </thead>\n",
       "  <tbody>\n",
       "    <tr>\n",
       "      <th>0</th>\n",
       "      <td>Kareem</td>\n",
       "      <td>33</td>\n",
       "      <td>24.6</td>\n",
       "      <td>1947</td>\n",
       "      <td>38387</td>\n",
       "    </tr>\n",
       "    <tr>\n",
       "      <th>1</th>\n",
       "      <td>Karl</td>\n",
       "      <td>32</td>\n",
       "      <td>25.0</td>\n",
       "      <td>1963</td>\n",
       "      <td>36928</td>\n",
       "    </tr>\n",
       "    <tr>\n",
       "      <th>2</th>\n",
       "      <td>LeBron</td>\n",
       "      <td>23</td>\n",
       "      <td>27.0</td>\n",
       "      <td>1984</td>\n",
       "      <td>36381</td>\n",
       "    </tr>\n",
       "    <tr>\n",
       "      <th>3</th>\n",
       "      <td>Kobe</td>\n",
       "      <td>24</td>\n",
       "      <td>25.0</td>\n",
       "      <td>1978</td>\n",
       "      <td>33643</td>\n",
       "    </tr>\n",
       "    <tr>\n",
       "      <th>4</th>\n",
       "      <td>Michael</td>\n",
       "      <td>23</td>\n",
       "      <td>30.1</td>\n",
       "      <td>1963</td>\n",
       "      <td>32292</td>\n",
       "    </tr>\n",
       "  </tbody>\n",
       "</table>\n",
       "</div>"
      ],
      "text/plain": [
       "      Name  Number   PPG  YearBorn  TotalPoints\n",
       "0   Kareem      33  24.6      1947        38387\n",
       "1     Karl      32  25.0      1963        36928\n",
       "2   LeBron      23  27.0      1984        36381\n",
       "3     Kobe      24  25.0      1978        33643\n",
       "4  Michael      23  30.1      1963        32292"
      ]
     },
     "execution_count": 5,
     "metadata": {},
     "output_type": "execute_result"
    }
   ],
   "source": [
    "# Let's read our sample data\n",
    "import pandas as pd\n",
    "data = pd.read_csv('players.csv')\n",
    "data"
   ]
  },
  {
   "cell_type": "code",
   "execution_count": 6,
   "id": "a8787733",
   "metadata": {
    "cell_style": "split",
    "slideshow": {
     "slide_type": "fragment"
    }
   },
   "outputs": [
    {
     "data": {
      "text/html": [
       "<div>\n",
       "<style scoped>\n",
       "    .dataframe tbody tr th:only-of-type {\n",
       "        vertical-align: middle;\n",
       "    }\n",
       "\n",
       "    .dataframe tbody tr th {\n",
       "        vertical-align: top;\n",
       "    }\n",
       "\n",
       "    .dataframe thead th {\n",
       "        text-align: right;\n",
       "    }\n",
       "</style>\n",
       "<table border=\"1\" class=\"dataframe\">\n",
       "  <thead>\n",
       "    <tr style=\"text-align: right;\">\n",
       "      <th></th>\n",
       "      <th>Name</th>\n",
       "      <th>Number</th>\n",
       "      <th>PPG</th>\n",
       "      <th>YearBorn</th>\n",
       "      <th>TotalPoints</th>\n",
       "      <th>LikesPizza</th>\n",
       "    </tr>\n",
       "  </thead>\n",
       "  <tbody>\n",
       "    <tr>\n",
       "      <th>0</th>\n",
       "      <td>Kareem</td>\n",
       "      <td>33</td>\n",
       "      <td>24.6</td>\n",
       "      <td>1947</td>\n",
       "      <td>38387</td>\n",
       "      <td>1</td>\n",
       "    </tr>\n",
       "    <tr>\n",
       "      <th>1</th>\n",
       "      <td>Karl</td>\n",
       "      <td>32</td>\n",
       "      <td>25.0</td>\n",
       "      <td>1963</td>\n",
       "      <td>36928</td>\n",
       "      <td>0</td>\n",
       "    </tr>\n",
       "    <tr>\n",
       "      <th>2</th>\n",
       "      <td>LeBron</td>\n",
       "      <td>23</td>\n",
       "      <td>27.0</td>\n",
       "      <td>1984</td>\n",
       "      <td>36381</td>\n",
       "      <td>0</td>\n",
       "    </tr>\n",
       "    <tr>\n",
       "      <th>3</th>\n",
       "      <td>Kobe</td>\n",
       "      <td>24</td>\n",
       "      <td>25.0</td>\n",
       "      <td>1978</td>\n",
       "      <td>33643</td>\n",
       "      <td>1</td>\n",
       "    </tr>\n",
       "    <tr>\n",
       "      <th>4</th>\n",
       "      <td>Michael</td>\n",
       "      <td>23</td>\n",
       "      <td>30.1</td>\n",
       "      <td>1963</td>\n",
       "      <td>32292</td>\n",
       "      <td>0</td>\n",
       "    </tr>\n",
       "  </tbody>\n",
       "</table>\n",
       "</div>"
      ],
      "text/plain": [
       "      Name  Number   PPG  YearBorn  TotalPoints  LikesPizza\n",
       "0   Kareem      33  24.6      1947        38387           1\n",
       "1     Karl      32  25.0      1963        36928           0\n",
       "2   LeBron      23  27.0      1984        36381           0\n",
       "3     Kobe      24  25.0      1978        33643           1\n",
       "4  Michael      23  30.1      1963        32292           0"
      ]
     },
     "execution_count": 6,
     "metadata": {},
     "output_type": "execute_result"
    }
   ],
   "source": [
    "likes_pizza = [1,0,0,1,0]\n",
    "data['LikesPizza'] = likes_pizza\n",
    "data"
   ]
  },
  {
   "cell_type": "markdown",
   "id": "66c187d1",
   "metadata": {
    "slideshow": {
     "slide_type": "subslide"
    }
   },
   "source": [
    "## Visualized"
   ]
  },
  {
   "cell_type": "code",
   "execution_count": 7,
   "id": "01e83327",
   "metadata": {
    "cell_style": "center",
    "slideshow": {
     "slide_type": "-"
    }
   },
   "outputs": [
    {
     "data": {
      "image/png": "[encoded data removed]",
      "text/plain": [
       "<Figure size 800x800 with 1 Axes>"
      ]
     },
     "metadata": {},
     "output_type": "display_data"
    }
   ],
   "source": [
    "import matplotlib.pyplot as plt\n",
    "data['radius'] = [1000 for x in data['PPG']]\n",
    "fig,ax = plt.subplots(figsize=(8,8))\n",
    "ax.set_xlabel('Total points')\n",
    "ax.set_ylabel('Points per game')\n",
    "ax.scatter('TotalPoints','PPG','radius','LikesPizza',data=data);"
   ]
  },
  {
   "cell_type": "markdown",
   "id": "44720b72",
   "metadata": {
    "slideshow": {
     "slide_type": "slide"
    }
   },
   "source": [
    "## Data selection\n",
    "* set of inputs: `X`\n",
    "* set of desired outputs:`y`"
   ]
  },
  {
   "cell_type": "code",
   "execution_count": 8,
   "id": "f970db4b",
   "metadata": {
    "cell_style": "split",
    "slideshow": {
     "slide_type": "-"
    }
   },
   "outputs": [
    {
     "data": {
      "text/html": [
       "<div>\n",
       "<style scoped>\n",
       "    .dataframe tbody tr th:only-of-type {\n",
       "        vertical-align: middle;\n",
       "    }\n",
       "\n",
       "    .dataframe tbody tr th {\n",
       "        vertical-align: top;\n",
       "    }\n",
       "\n",
       "    .dataframe thead th {\n",
       "        text-align: right;\n",
       "    }\n",
       "</style>\n",
       "<table border=\"1\" class=\"dataframe\">\n",
       "  <thead>\n",
       "    <tr style=\"text-align: right;\">\n",
       "      <th></th>\n",
       "      <th>Name</th>\n",
       "      <th>Number</th>\n",
       "      <th>PPG</th>\n",
       "      <th>YearBorn</th>\n",
       "      <th>TotalPoints</th>\n",
       "      <th>LikesPizza</th>\n",
       "      <th>radius</th>\n",
       "    </tr>\n",
       "  </thead>\n",
       "  <tbody>\n",
       "    <tr>\n",
       "      <th>0</th>\n",
       "      <td>Kareem</td>\n",
       "      <td>33</td>\n",
       "      <td>24.6</td>\n",
       "      <td>1947</td>\n",
       "      <td>38387</td>\n",
       "      <td>1</td>\n",
       "      <td>1000</td>\n",
       "    </tr>\n",
       "    <tr>\n",
       "      <th>1</th>\n",
       "      <td>Karl</td>\n",
       "      <td>32</td>\n",
       "      <td>25.0</td>\n",
       "      <td>1963</td>\n",
       "      <td>36928</td>\n",
       "      <td>0</td>\n",
       "      <td>1000</td>\n",
       "    </tr>\n",
       "    <tr>\n",
       "      <th>2</th>\n",
       "      <td>LeBron</td>\n",
       "      <td>23</td>\n",
       "      <td>27.0</td>\n",
       "      <td>1984</td>\n",
       "      <td>36381</td>\n",
       "      <td>0</td>\n",
       "      <td>1000</td>\n",
       "    </tr>\n",
       "    <tr>\n",
       "      <th>3</th>\n",
       "      <td>Kobe</td>\n",
       "      <td>24</td>\n",
       "      <td>25.0</td>\n",
       "      <td>1978</td>\n",
       "      <td>33643</td>\n",
       "      <td>1</td>\n",
       "      <td>1000</td>\n",
       "    </tr>\n",
       "    <tr>\n",
       "      <th>4</th>\n",
       "      <td>Michael</td>\n",
       "      <td>23</td>\n",
       "      <td>30.1</td>\n",
       "      <td>1963</td>\n",
       "      <td>32292</td>\n",
       "      <td>0</td>\n",
       "      <td>1000</td>\n",
       "    </tr>\n",
       "  </tbody>\n",
       "</table>\n",
       "</div>"
      ],
      "text/plain": [
       "      Name  Number   PPG  YearBorn  TotalPoints  LikesPizza  radius\n",
       "0   Kareem      33  24.6      1947        38387           1    1000\n",
       "1     Karl      32  25.0      1963        36928           0    1000\n",
       "2   LeBron      23  27.0      1984        36381           0    1000\n",
       "3     Kobe      24  25.0      1978        33643           1    1000\n",
       "4  Michael      23  30.1      1963        32292           0    1000"
      ]
     },
     "execution_count": 8,
     "metadata": {},
     "output_type": "execute_result"
    }
   ],
   "source": [
    "data"
   ]
  },
  {
   "cell_type": "code",
   "execution_count": 10,
   "id": "dae25171",
   "metadata": {
    "cell_style": "split",
    "slideshow": {
     "slide_type": "fragment"
    }
   },
   "outputs": [
    {
     "name": "stdout",
     "output_type": "stream",
     "text": [
      "    PPG  YearBorn  TotalPoints\n",
      "0  24.6      1947        38387\n",
      "1  25.0      1963        36928\n",
      "2  27.0      1984        36381\n",
      "3  25.0      1978        33643\n",
      "4  30.1      1963        32292\n",
      "\n",
      "0    1\n",
      "1    0\n",
      "2    0\n",
      "3    1\n",
      "4    0\n",
      "Name: LikesPizza, dtype: int64\n"
     ]
    }
   ],
   "source": [
    "features = ['PPG','YearBorn','TotalPoints']\n",
    "X = data[features]\n",
    "y = data['LikesPizza']\n",
    "print(X,y,sep='\\n\\n')"
   ]
  },
  {
   "cell_type": "markdown",
   "id": "690785f0",
   "metadata": {
    "slideshow": {
     "slide_type": "slide"
    }
   },
   "source": [
    "## Decision tree construction\n",
    "* How to decide which feature should be located at the root node,\n",
    "* Most accurate feature to serve as internal nodes or leaf nodes,\n",
    "* How to divide tree,\n",
    "* How to measure the accuracy of splitting tree and many more.\n"
   ]
  },
  {
   "cell_type": "code",
   "execution_count": 11,
   "id": "43cedecb",
   "metadata": {
    "cell_style": "center",
    "slideshow": {
     "slide_type": "-"
    }
   },
   "outputs": [
    {
     "data": {
      "text/plain": [
       "array([1])"
      ]
     },
     "execution_count": 11,
     "metadata": {},
     "output_type": "execute_result"
    }
   ],
   "source": [
    "from sklearn import tree\n",
    "clf = tree.DecisionTreeClassifier(max_leaf_nodes = 10)\n",
    "# clf = tree.DecisionTreeRegressor()\n",
    "# clf = clf.fit(X,y)\n",
    "clf = clf.fit(X.values, y)\n",
    "# result = clf.predict([[22.4, 1975, 30000]])\n",
    "# result\n",
    "clf.predict([[24.6, 1947, 38387]])"
   ]
  },
  {
   "cell_type": "code",
   "execution_count": 12,
   "id": "c52a8eaf",
   "metadata": {},
   "outputs": [
    {
     "name": "stdout",
     "output_type": "stream",
     "text": [
      "0    1\n",
      "1    0\n",
      "2    0\n",
      "3    1\n",
      "4    0\n",
      "Name: LikesPizza, dtype: int64\n",
      "0 [1]\n",
      "1 [0]\n",
      "2 [0]\n",
      "3 [1]\n",
      "4 [0]\n",
      "Error is  [0]\n"
     ]
    }
   ],
   "source": [
    "print(y)\n",
    "error = 0\n",
    "for i in range(5): \n",
    "    print(i, end = ' ')\n",
    "    result = clf.predict([X.iloc[i]])\n",
    "    print(result)\n",
    "    error += abs(result - y[i])\n",
    "print(\"Error is \", error)\n",
    "#print(clf.predict([X.iloc[0]]))\n",
    "#print(clf.predict([X.iloc[1]]))\n",
    "#print(clf.predict([X.iloc[2]]))\n",
    "#print(clf.predict([X.iloc[3]]))\n",
    "#print(clf.predict([X.iloc[4]]))"
   ]
  },
  {
   "cell_type": "markdown",
   "id": "dd1f235c",
   "metadata": {
    "slideshow": {
     "slide_type": "slide"
    }
   },
   "source": [
    "## Visualizing the outcome"
   ]
  },
  {
   "cell_type": "code",
   "execution_count": 18,
   "id": "cbfd2135",
   "metadata": {
    "cell_style": "split",
    "slideshow": {
     "slide_type": "-"
    }
   },
   "outputs": [
    {
     "name": "stdout",
     "output_type": "stream",
     "text": [
      "|--- PPG <= 26.00\n",
      "|   |--- PPG <= 24.80\n",
      "|   |   |--- class: 1\n",
      "|   |--- PPG >  24.80\n",
      "|   |   |--- TotalPoints <= 35285.50\n",
      "|   |   |   |--- class: 1\n",
      "|   |   |--- TotalPoints >  35285.50\n",
      "|   |   |   |--- class: 0\n",
      "|--- PPG >  26.00\n",
      "|   |--- class: 0\n",
      "\n"
     ]
    }
   ],
   "source": [
    "from sklearn import tree\n",
    "text = tree.export_text(clf,feature_names = features)\n",
    "print(text)"
   ]
  },
  {
   "cell_type": "code",
   "execution_count": 20,
   "id": "0a6ab9ed",
   "metadata": {
    "cell_style": "split",
    "scrolled": true,
    "slideshow": {
     "slide_type": "fragment"
    }
   },
   "outputs": [
    {
     "data": {
      "image/png": "[encoded data removed]",
      "text/plain": [
       "<Figure size 640x480 with 1 Axes>"
      ]
     },
     "metadata": {},
     "output_type": "display_data"
    }
   ],
   "source": [
    "tree.plot_tree(clf,feature_names = features);"
   ]
  },
  {
   "cell_type": "code",
   "execution_count": 19,
   "id": "e5627f8d",
   "metadata": {},
   "outputs": [
    {
     "data": {
      "text/plain": [
       "array([3.5])"
      ]
     },
     "execution_count": 19,
     "metadata": {},
     "output_type": "execute_result"
    }
   ],
   "source": [
    "from sklearn import tree\n",
    "X = [[0, 0], [2, 2], [3, 3]]\n",
    "y = [0.5, 2.5, 3.5]\n",
    "clf2 = tree.DecisionTreeRegressor()\n",
    "clf2 = clf2.fit(X, y)\n",
    "clf2.predict([[4, 3]])"
   ]
  },
  {
   "cell_type": "code",
   "execution_count": 13,
   "id": "cf8c6c48",
   "metadata": {},
   "outputs": [
    {
     "name": "stdout",
     "output_type": "stream",
     "text": [
      "[[5.71874087e-04]\n",
      " [9.14413867e-02]\n",
      " [9.68347894e-02]\n",
      " [1.36937966e-01]\n",
      " [1.95273916e-01]\n",
      " [2.49767295e-01]\n",
      " [2.66812726e-01]\n",
      " [4.25221057e-01]\n",
      " [4.61692974e-01]\n",
      " [4.91734169e-01]\n",
      " [5.11672144e-01]\n",
      " [5.16130033e-01]\n",
      " [6.50142861e-01]\n",
      " [6.87373521e-01]\n",
      " [6.96381736e-01]\n",
      " [7.01934693e-01]\n",
      " [7.33642875e-01]\n",
      " [7.33779454e-01]\n",
      " [8.26770986e-01]\n",
      " [8.49152098e-01]\n",
      " [9.31301057e-01]\n",
      " [9.90507445e-01]\n",
      " [1.02226125e+00]\n",
      " [1.05814058e+00]\n",
      " [1.32773330e+00]\n",
      " [1.40221996e+00]\n",
      " [1.43887669e+00]\n",
      " [1.46807074e+00]\n",
      " [1.51166286e+00]\n",
      " [1.56712089e+00]\n",
      " [1.57757816e+00]\n",
      " [1.72780364e+00]\n",
      " [1.73882930e+00]\n",
      " [1.98383737e+00]\n",
      " [1.98838418e+00]\n",
      " [2.07027994e+00]\n",
      " [2.07089635e+00]\n",
      " [2.08511002e+00]\n",
      " [2.08652401e+00]\n",
      " [2.09597257e+00]\n",
      " [2.10553813e+00]\n",
      " [2.23946763e+00]\n",
      " [2.45786580e+00]\n",
      " [2.57444556e+00]\n",
      " [2.66582642e+00]\n",
      " [2.67948203e+00]\n",
      " [2.69408367e+00]\n",
      " [2.79344914e+00]\n",
      " [2.87058803e+00]\n",
      " [2.93277520e+00]\n",
      " [2.94652768e+00]\n",
      " [3.31897323e+00]\n",
      " [3.35233755e+00]\n",
      " [3.39417766e+00]\n",
      " [3.42609750e+00]\n",
      " [3.43250464e+00]\n",
      " [3.45938557e+00]\n",
      " [3.46161308e+00]\n",
      " [3.47200079e+00]\n",
      " [3.49879180e+00]\n",
      " [3.60162247e+00]\n",
      " [3.62998993e+00]\n",
      " [3.74082827e+00]\n",
      " [3.75072157e+00]\n",
      " [3.75406052e+00]\n",
      " [3.94639664e+00]\n",
      " [4.00372284e+00]\n",
      " [4.03695644e+00]\n",
      " [4.17312836e+00]\n",
      " [4.38194576e+00]\n",
      " [4.39058718e+00]\n",
      " [4.39071252e+00]\n",
      " [4.47303332e+00]\n",
      " [4.51700958e+00]\n",
      " [4.54297752e+00]\n",
      " [4.63754290e+00]\n",
      " [4.72297378e+00]\n",
      " [4.78944765e+00]\n",
      " [4.84130788e+00]\n",
      " [4.94430544e+00]]\n",
      "[-1.1493464   0.09131401  0.09668352  0.13651039  0.19403525 -0.12383814\n",
      "  0.26365828  0.41252216  0.44546446  0.47215529 -0.26319138  0.49351799\n",
      "  0.60530013  0.63450933  0.64144608  1.09900119  0.66957978  0.66968122\n",
      "  0.73574834  0.75072053  1.4926134   0.8363043   0.8532893   0.87144496\n",
      "  0.97060533 -0.20183403  0.99131122  0.99472837  0.99825213  0.99999325\n",
      "  1.21570343  0.98769965  0.98591565  0.9159044   0.91406986 -0.51669013\n",
      "  0.8775346   0.87063055  0.86993408  0.86523559  0.37007575  0.78464608\n",
      "  0.63168655  0.53722799  0.45801971  0.08075119  0.43272116  0.34115328\n",
      "  0.26769953  0.20730318  1.34959235 -0.17645185 -0.20918837 -0.24990778\n",
      " -0.28068224 -1.63529379 -0.31247075 -0.31458595 -0.32442911 -0.34965155\n",
      " -0.29371122 -0.46921115 -0.56401144 -0.57215326 -0.57488849 -0.95586361\n",
      " -0.75923066 -0.78043659 -0.85808859 -0.94589863 -0.6730775  -0.94870673\n",
      " -0.97149093 -0.98097408 -0.98568417 -0.20828128 -0.99994398 -0.99703245\n",
      " -0.99170146 -0.9732277 ]\n"
     ]
    },
    {
     "data": {
      "image/png": "[encoded data removed]",
      "text/plain": [
       "<Figure size 640x480 with 1 Axes>"
      ]
     },
     "metadata": {},
     "output_type": "display_data"
    }
   ],
   "source": [
    "import numpy as np\n",
    "from sklearn.tree import DecisionTreeRegressor\n",
    "import matplotlib.pyplot as plt\n",
    "\n",
    "# Create a random dataset\n",
    "rng = np.random.RandomState(1)\n",
    "X = np.sort(5 * rng.rand(80, 1), axis=0)\n",
    "print(X)\n",
    "y = np.sin(X).ravel()\n",
    "y[::5] += 3 * (0.5 - rng.rand(16))\n",
    "print(y)\n",
    "# Fit regression model\n",
    "regr_1 = DecisionTreeRegressor(max_depth=2)\n",
    "regr_2 = DecisionTreeRegressor(max_depth=5)\n",
    "regr_1.fit(X, y)\n",
    "regr_2.fit(X, y)\n",
    "\n",
    "# Predict\n",
    "X_test = np.arange(0.0, 5.0, 0.01)[:, np.newaxis]\n",
    "y_1 = regr_1.predict(X_test)\n",
    "y_2 = regr_2.predict(X_test)\n",
    "\n",
    "# Plot the results\n",
    "plt.figure()\n",
    "plt.scatter(X, y, s=20, edgecolor=\"black\", c=\"darkorange\", label=\"data\")\n",
    "plt.plot(X_test, y_1, color=\"cornflowerblue\", label=\"max_depth=2\", linewidth=2)\n",
    "plt.plot(X_test, y_2, color=\"yellowgreen\", label=\"max_depth=5\", linewidth=2)\n",
    "plt.xlabel(\"data\")\n",
    "plt.ylabel(\"target\")\n",
    "plt.title(\"Decision Tree Regression\")\n",
    "plt.legend()\n",
    "plt.show()\n"
   ]
  },
  {
   "cell_type": "markdown",
   "id": "15ae1c4e",
   "metadata": {
    "slideshow": {
     "slide_type": "slide"
    }
   },
   "source": [
    "## Closing remarks\n",
    "* **Suggested reading:** https://scikit-learn.org/stable/modules/tree.html\n",
    "* **Next time:** using this in the context of a data science pipeline\n",
    "* Homework 1 out on Wednesday."
   ]
  }
 ],
 "metadata": {
  "celltoolbar": "Slideshow",
  "kernelspec": {
   "display_name": "Python 3 (ipykernel)",
   "language": "python",
   "name": "python3"
  },
  "language_info": {
   "codemirror_mode": {
    "name": "ipython",
    "version": 3
   },
   "file_extension": ".py",
   "mimetype": "text/x-python",
   "name": "python",
   "nbconvert_exporter": "python",
   "pygments_lexer": "ipython3",
   "version": "3.8.10"
  },
  "rise": {
   "enable_chalkboard": true,
   "theme": "serif"
  }
 },
 "nbformat": 4,
 "nbformat_minor": 5
}
